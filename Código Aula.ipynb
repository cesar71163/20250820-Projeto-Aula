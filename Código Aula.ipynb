{
 "cells": [
  {
   "cell_type": "code",
   "execution_count": null,
   "id": "006032af",
   "metadata": {},
   "outputs": [],
   "source": [
    "pip install langchain-ollama"
   ]
  },
  {
   "cell_type": "code",
   "execution_count": 2,
   "id": "96cf5b94",
   "metadata": {},
   "outputs": [],
   "source": [
    "from langchain_ollama import OllamaLLM"
   ]
  },
  {
   "cell_type": "code",
   "execution_count": null,
   "id": "bfc840bf",
   "metadata": {},
   "outputs": [],
   "source": [
    "llm = OllamaLLM(model=\"deepseek-r1:8b\")"
   ]
  },
  {
   "cell_type": "code",
   "execution_count": 9,
   "id": "b0d76fed",
   "metadata": {},
   "outputs": [],
   "source": [
    "response = llm.invoke(\"Explique de forma bem simples o que faz uma agência regulatória\")"
   ]
  },
  {
   "cell_type": "code",
   "execution_count": 10,
   "id": "942f6d72",
   "metadata": {},
   "outputs": [
    {
     "name": "stdout",
     "output_type": "stream",
     "text": [
      "<think>\n",
      "Okay, the user is asking for a simple explanation of what a regulatory agency does. Let me start by understanding their query. They want it \"bem simples,\" which means straightforward and easy to grasp.\n",
      "\n",
      "First, I need to break down the concept without jargon. The user might not have a background in policy or law, so using analogies could help. Comparing it to rules for games like Monopoly makes sense because most people know that game's rules set by the publisher and enforced by referees.\n",
      "\n",
      "I should consider who the user is. Maybe they're a student researching for a project, someone new to the workforce needing basics, or even a curious individual. Their main need is clarity, but there might be deeper needs too. Perhaps they want to understand why these agencies exist or how they impact daily life without getting into complex details.\n",
      "\n",
      "The key points to cover are defining regulatory agencies, their role in creating rules, enforcing those rules, and protecting public interests. Using examples like food safety (FDA), environmental protection (EPA), finance regulations (Securities Commission) would make it relatable. The Monopoly analogy can simplify enforcement and monitoring aspects.\n",
      "\n",
      "I should also address the balance between regulation and innovation. Mentioning that agencies aim to prevent harm without stifling progress is important. Maybe the user isn't aware of this nuance but needs reassurance that rules don't kill industries, they just keep them clean.\n",
      "\n",
      "Need to avoid technical terms as much as possible. Terms like \"enforcement\" might be confusing if not explained properly. Instead, use phrases like \"making sure people follow the rules.\" Also, clarify that agencies set standards for products and services, ensuring safety without being overly restrictive.\n",
      "\n",
      "Potential pitfalls: The user might think regulatory agencies are only about restrictions. So emphasizing their protective role, like preventing dangerous medicines or fake food labels, is crucial. Including examples of positive outcomes (e.g., safer cars) can show the benefits beyond just rules.\n",
      "\n",
      "I'll structure it with a clear explanation and an analogy to keep each part concise. The thought process should naturally flow from defining agencies to explaining their functions step-by-step, then tie it back to everyday relevance. Making sure not to overwhelm but to provide enough detail for understanding.\n",
      "</think>\n",
      "Okay, vamos lá de forma simples:\n",
      "\n",
      "Imagine o jogo **Monopoly**.\n",
      "\n",
      "1.  **Criar as regras:** Os criadores do jogo (ou alguém autorizado) definem como a pessoa joga – quantos dados usar, como se movimenta pela tabuleta, quem pode comprar propriedades, etc.\n",
      "2.  **Garantir que todos joguem bem:** Eles verificam as peças antes de entrar no jogo para garantir que estão em condições adequadas (sem partes soltas perigosas, cores legíveis, etc.). Também precisam ser justos.\n",
      "\n",
      "Agora, uma **agência regulatória** faz basicamente isso na vida real:\n",
      "\n",
      "*   **Define regras:** Elas criam leis e padrões para indústrias e produtos que são importantes para a sociedade (saúde, segurança, meio ambiente, etc.).\n",
      "*   **Garante qualidade e segurança:** Verificam se empresas e produtos seguem essas regras antes de entrarem no mercado ou continuarem operando.\n",
      "\n",
      "**Exemplos concretos:**\n",
      "\n",
      "*   **Agência regulatória de saúde (como o FDA nos EUA ou a ANVISA no Brasil):**\n",
      "    *   Define padrões para remédios, vacinas e alimentos.\n",
      "    *   Verifica se esses medicamentos e produtos são seguros antes que as pessoas os compremem ou usem.\n",
      "\n",
      "*   **Agência regulatória de segurança alimentar (como a FDA nos EUA):** Garante que o leite não seja viciado, os carros não tenham ingredientes químicos estranhos, etc.\n",
      "\n",
      "*   **Agência regulatória ambiental (como o EPA nos EUA ou a ANAC/NEMA no Brasil):**\n",
      "    *   Define regras para empresas poluidoras.\n",
      "    *   Verifica se elas estão usando métodos seguros e não danificantes ao meio ambiente.\n",
      "\n",
      "*   **Agência regulatória financeira (como as Comissões de Valores Mobiliares nos EUA, Reino Unido ou a CVM no Brasil):**\n",
      "    *   Define como as empresas podem venderações para investidores.\n",
      "    *   Garante que informações sobre os investimentos sejam claras e verdadeiras.\n",
      "\n",
      "*   **Agência regulatória de transporte:** Verifica padrões de segurança em veículos (aeronaves, automóveis).\n",
      "\n",
      "**Em resumo:**\n",
      "\n",
      "Uma agência regulatória é como um \"detentor das regras\" que cria normas para certos setores da economia ou aspectos importantes da vida (como saúde e segurança) e depois fiscaliza o cumprimento dessas regras, garantindo que os produtos, serviços e empresas não causem dano à população nem ao meio ambiente. Elas atuam como um intermediário independente entre governo e cidadão para proteger interesses coletivos.\n"
     ]
    }
   ],
   "source": [
    "print(response)"
   ]
  },
  {
   "cell_type": "code",
   "execution_count": null,
   "id": "da2c853b",
   "metadata": {},
   "outputs": [],
   "source": []
  }
 ],
 "metadata": {
  "kernelspec": {
   "display_name": ".venv",
   "language": "python",
   "name": "python3"
  },
  "language_info": {
   "codemirror_mode": {
    "name": "ipython",
    "version": 3
   },
   "file_extension": ".py",
   "mimetype": "text/x-python",
   "name": "python",
   "nbconvert_exporter": "python",
   "pygments_lexer": "ipython3",
   "version": "3.13.7"
  }
 },
 "nbformat": 4,
 "nbformat_minor": 5
}
