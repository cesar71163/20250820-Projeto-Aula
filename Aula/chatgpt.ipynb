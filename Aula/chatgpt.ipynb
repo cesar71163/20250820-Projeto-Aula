{
 "cells": [
  {
   "cell_type": "code",
   "execution_count": 9,
   "id": "f6e0c630",
   "metadata": {},
   "outputs": [],
   "source": [
    "from langchain_openai import ChatOpenAI\n",
    "from dotenv import load_dotenv"
   ]
  },
  {
   "cell_type": "code",
   "execution_count": 16,
   "id": "3621bf31",
   "metadata": {},
   "outputs": [
    {
     "data": {
      "text/plain": [
       "True"
      ]
     },
     "execution_count": 16,
     "metadata": {},
     "output_type": "execute_result"
    }
   ],
   "source": [
    "#carregar as variáveis de ambiente do arquivo .env\n",
    "load_dotenv()"
   ]
  },
  {
   "cell_type": "code",
   "execution_count": 21,
   "id": "d5518ae9",
   "metadata": {},
   "outputs": [],
   "source": [
    "# Definindo o modelo de LLM\n",
    "llm = ChatOpenAI(model=\"gpt-4o-mini\", \n",
    "                 temperature=0.1,\n",
    "                 max_tokens=200)"
   ]
  },
  {
   "cell_type": "code",
   "execution_count": 22,
   "id": "34999f03",
   "metadata": {},
   "outputs": [],
   "source": [
    "# Chamada para o modelo de LLM do OpenAI\n",
    "response = llm.invoke(\"Explique de forma bem simples o que faz uma agência regulatória\")"
   ]
  },
  {
   "cell_type": "code",
   "execution_count": 23,
   "id": "5cf48731",
   "metadata": {},
   "outputs": [
    {
     "name": "stdout",
     "output_type": "stream",
     "text": [
      "Uma agência regulatória é uma organização do governo que tem a função de criar e fazer cumprir regras e normas para setores específicos da economia, como saúde, energia, telecomunicações, entre outros. O objetivo principal dessas agências é proteger o interesse público, garantindo que os serviços e produtos oferecidos sejam seguros, de qualidade e justos. Elas também monitoram as empresas, fiscalizam e podem aplicar penalidades se as regras não forem seguidas. Em resumo, as agências regulatórias ajudam a manter a ordem e a segurança em áreas importantes da sociedade.\n"
     ]
    }
   ],
   "source": [
    "#Visualizar o conteúdo\n",
    "print(response.content)"
   ]
  },
  {
   "cell_type": "code",
   "execution_count": null,
   "id": "7891a8f6",
   "metadata": {},
   "outputs": [],
   "source": []
  }
 ],
 "metadata": {
  "kernelspec": {
   "display_name": ".venv",
   "language": "python",
   "name": "python3"
  },
  "language_info": {
   "codemirror_mode": {
    "name": "ipython",
    "version": 3
   },
   "file_extension": ".py",
   "mimetype": "text/x-python",
   "name": "python",
   "nbconvert_exporter": "python",
   "pygments_lexer": "ipython3",
   "version": "3.13.7"
  }
 },
 "nbformat": 4,
 "nbformat_minor": 5
}
